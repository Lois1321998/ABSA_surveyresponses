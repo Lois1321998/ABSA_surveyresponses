{
 "cells": [
  {
   "cell_type": "code",
   "execution_count": 1,
   "id": "4c65ffe5-8ba7-4eef-96d0-ef47317d779d",
   "metadata": {
    "tags": []
   },
   "outputs": [
    {
     "name": "stdout",
     "output_type": "stream",
     "text": [
      "Looking in indexes: https://pypi.org/simple, https://pip.repos.neuron.amazonaws.com\n",
      "Collecting krippendorff\n",
      "  Downloading krippendorff-0.6.0-py3-none-any.whl (17 kB)\n",
      "Requirement already satisfied: numpy<2.0,>=1.21 in /home/ec2-user/anaconda3/envs/python3/lib/python3.10/site-packages (from krippendorff) (1.22.3)\n",
      "Installing collected packages: krippendorff\n",
      "Successfully installed krippendorff-0.6.0\n",
      "Looking in indexes: https://pypi.org/simple, https://pip.repos.neuron.amazonaws.com\n",
      "Requirement already satisfied: boto3 in /home/ec2-user/anaconda3/envs/python3/lib/python3.10/site-packages (1.26.144)\n",
      "Requirement already satisfied: botocore<1.30.0,>=1.29.144 in /home/ec2-user/anaconda3/envs/python3/lib/python3.10/site-packages (from boto3) (1.29.144)\n",
      "Requirement already satisfied: jmespath<2.0.0,>=0.7.1 in /home/ec2-user/anaconda3/envs/python3/lib/python3.10/site-packages (from boto3) (1.0.1)\n",
      "Requirement already satisfied: s3transfer<0.7.0,>=0.6.0 in /home/ec2-user/anaconda3/envs/python3/lib/python3.10/site-packages (from boto3) (0.6.1)\n",
      "Requirement already satisfied: python-dateutil<3.0.0,>=2.1 in /home/ec2-user/anaconda3/envs/python3/lib/python3.10/site-packages (from botocore<1.30.0,>=1.29.144->boto3) (2.8.2)\n",
      "Requirement already satisfied: urllib3<1.27,>=1.25.4 in /home/ec2-user/anaconda3/envs/python3/lib/python3.10/site-packages (from botocore<1.30.0,>=1.29.144->boto3) (1.26.8)\n",
      "Requirement already satisfied: six>=1.5 in /home/ec2-user/anaconda3/envs/python3/lib/python3.10/site-packages (from python-dateutil<3.0.0,>=2.1->botocore<1.30.0,>=1.29.144->boto3) (1.16.0)\n",
      "Looking in indexes: https://pypi.org/simple, https://pip.repos.neuron.amazonaws.com\n",
      "Collecting pyirr\n",
      "  Downloading pyirr-0.84.1.2-py3-none-any.whl (58 kB)\n",
      "\u001b[2K     \u001b[90m━━━━━━━━━━━━━━━━━━━━━━━━━━━━━━━━━━━━━━━━\u001b[0m \u001b[32m58.9/58.9 kB\u001b[0m \u001b[31m3.3 MB/s\u001b[0m eta \u001b[36m0:00:00\u001b[0m\n",
      "\u001b[?25hRequirement already satisfied: numpy in /home/ec2-user/anaconda3/envs/python3/lib/python3.10/site-packages (from pyirr) (1.22.3)\n",
      "Requirement already satisfied: scipy in /home/ec2-user/anaconda3/envs/python3/lib/python3.10/site-packages (from pyirr) (1.10.1)\n",
      "Requirement already satisfied: pandas in /home/ec2-user/anaconda3/envs/python3/lib/python3.10/site-packages (from pyirr) (2.0.1)\n",
      "Requirement already satisfied: statsmodels in /home/ec2-user/anaconda3/envs/python3/lib/python3.10/site-packages (from pyirr) (0.14.0)\n",
      "Requirement already satisfied: python-dateutil>=2.8.2 in /home/ec2-user/anaconda3/envs/python3/lib/python3.10/site-packages (from pandas->pyirr) (2.8.2)\n",
      "Requirement already satisfied: pytz>=2020.1 in /home/ec2-user/anaconda3/envs/python3/lib/python3.10/site-packages (from pandas->pyirr) (2023.3)\n",
      "Requirement already satisfied: tzdata>=2022.1 in /home/ec2-user/anaconda3/envs/python3/lib/python3.10/site-packages (from pandas->pyirr) (2023.3)\n",
      "Requirement already satisfied: patsy>=0.5.2 in /home/ec2-user/anaconda3/envs/python3/lib/python3.10/site-packages (from statsmodels->pyirr) (0.5.3)\n",
      "Requirement already satisfied: packaging>=21.3 in /home/ec2-user/anaconda3/envs/python3/lib/python3.10/site-packages (from statsmodels->pyirr) (21.3)\n",
      "Requirement already satisfied: pyparsing!=3.0.5,>=2.0.2 in /home/ec2-user/anaconda3/envs/python3/lib/python3.10/site-packages (from packaging>=21.3->statsmodels->pyirr) (3.0.9)\n",
      "Requirement already satisfied: six in /home/ec2-user/anaconda3/envs/python3/lib/python3.10/site-packages (from patsy>=0.5.2->statsmodels->pyirr) (1.16.0)\n",
      "Installing collected packages: pyirr\n",
      "Successfully installed pyirr-0.84.1.2\n"
     ]
    }
   ],
   "source": [
    "!pip install krippendorff\n",
    "!pip install boto3\n",
    "!pip install pyirr"
   ]
  },
  {
   "cell_type": "code",
   "execution_count": 2,
   "id": "b2c57b77-d6db-44eb-b874-63d2f0e1f934",
   "metadata": {
    "tags": []
   },
   "outputs": [],
   "source": [
    "import sqlite3\n",
    "import time\n",
    "import datetime\n",
    "import random\n",
    "import pandas as pd\n",
    "from ast import literal_eval\n",
    "import json\n",
    "import numpy as np\n",
    "import krippendorff\n",
    "import boto3\n",
    "import io\n",
    "import csv\n",
    "from sklearn.metrics import cohen_kappa_score, confusion_matrix\n",
    "from statsmodels.stats.inter_rater import fleiss_kappa\n",
    "import krippendorff\n",
    "\n",
    "import nltk\n",
    "from nltk import agreement\n",
    "\n",
    "from nltk import ngrams\n",
    "from sklearn.metrics.pairwise import cosine_similarity\n",
    "\n",
    "\n",
    "from pyirr import read_data, kappam_fleiss\n",
    "from collections import Counter\n",
    "\n",
    "import ast\n",
    "\n",
    "import seaborn as sns\n",
    "from sklearn.metrics import confusion_matrix\n",
    "import matplotlib.pyplot as plt"
   ]
  },
  {
   "cell_type": "markdown",
   "id": "0713abb6-9f8f-49ba-9aa9-2062b2df0576",
   "metadata": {},
   "source": [
    "# Connectie maken en Prodigy output uit database halen"
   ]
  },
  {
   "cell_type": "markdown",
   "id": "12971570-e2d2-400e-b1f1-73362cdafab6",
   "metadata": {},
   "source": [
    "## Batch 1"
   ]
  },
  {
   "cell_type": "code",
   "execution_count": 3,
   "id": "cc929a65-d845-4ba0-a160-98504e3fe0ea",
   "metadata": {
    "tags": []
   },
   "outputs": [],
   "source": [
    "conn = sqlite3.connect('batch1.db')\n",
    "\n",
    "# Get a cursor object\n",
    "cursor = conn.cursor()\n",
    "\n",
    "# Query the SQLite database for a list of all tables\n",
    "cursor.execute(\"SELECT name FROM sqlite_master WHERE type='table';\")\n",
    "table_names = cursor.fetchall()\n",
    "\n",
    "# Read data from a table in the database into a pandas DataFrame\n",
    "df = pd.read_sql_query('SELECT * FROM example', conn)\n",
    "\n",
    "# Close the cursor and the connection to the database\n",
    "cursor.close()\n",
    "conn.close()"
   ]
  },
  {
   "cell_type": "code",
   "execution_count": 4,
   "id": "1ee1f0aa-5b1f-4cbc-b37d-577c8b2bf736",
   "metadata": {
    "tags": []
   },
   "outputs": [
    {
     "data": {
      "text/plain": [
       "'Via de sollicitatie van WERKMAATSCHAPPIJ heb ik snel een nieuwe baan gevonden. Alleen heb ik voor zover ik weet nog geen contract en is er onduidelijkheid over de uren. Maar dat valt allemaal op te lossen en ik vind het prettig dat er heel snel geschakeld kan worden.'"
      ]
     },
     "execution_count": 4,
     "metadata": {},
     "output_type": "execute_result"
    }
   ],
   "source": [
    "df_batch1 = pd.DataFrame()\n",
    "\n",
    "df_batch1['prodigy_output'] = df['content']\n",
    "\n",
    "df_batch1['decoded_output'] = df_batch1['prodigy_output'].apply(lambda x: literal_eval(x.decode('utf8')))\n",
    "\n",
    "df_batch1['decoded_output'][0]['text']"
   ]
  },
  {
   "cell_type": "markdown",
   "id": "81f13d8e-e54e-4e01-a5f2-851f97fb16f5",
   "metadata": {},
   "source": [
    "### Retrieve relevant output from Prodigy output and append to df"
   ]
  },
  {
   "cell_type": "code",
   "execution_count": 5,
   "id": "c55024d2-e76f-4edd-a0c3-9e2aec948634",
   "metadata": {
    "tags": []
   },
   "outputs": [],
   "source": [
    "##retrieve text\n",
    "def retrieve_var(var_name: str, col_name: str):\n",
    "    get_var = lambda row: row['decoded_output'][var_name]\n",
    "    df_batch1[col_name] = df_batch1.apply(get_var, axis= 1)\n",
    "            "
   ]
  },
  {
   "cell_type": "code",
   "execution_count": 6,
   "id": "b3791e34-0414-4e9e-b7f9-ef8e4882840b",
   "metadata": {
    "tags": []
   },
   "outputs": [],
   "source": [
    "retrieve_var('datum_resultaat', 'datum_resultaat')\n",
    "retrieve_var('text', 'text')\n",
    "retrieve_var('_session_id', 'session_id')\n",
    "retrieve_var('answer', 'answer')\n",
    "retrieve_var('accept', 'accept')"
   ]
  },
  {
   "cell_type": "markdown",
   "id": "a8d41f54-96e9-4c1a-b90a-e6f7734957a1",
   "metadata": {},
   "source": [
    "### sort accept column + ignore health session"
   ]
  },
  {
   "cell_type": "code",
   "execution_count": 7,
   "id": "3d376826-c54b-4d3c-b403-0e4635dc45f5",
   "metadata": {
    "tags": []
   },
   "outputs": [
    {
     "data": {
      "text/plain": [
       "(1491, 7)"
      ]
     },
     "execution_count": 7,
     "metadata": {},
     "output_type": "execute_result"
    }
   ],
   "source": [
    "df_batch1['accept'] = df_batch1['accept'].apply(lambda x: sorted(x))\n",
    "df_batch1.shape\n",
    "\n",
    "df_batch1 = df_batch1[df_batch1['session_id'] != 'batch1-health']\n",
    "df_batch1.shape"
   ]
  },
  {
   "cell_type": "code",
   "execution_count": 8,
   "id": "41d44a51-2b10-4269-a642-b3fa46f26adf",
   "metadata": {
    "tags": []
   },
   "outputs": [],
   "source": [
    "#add missing annotations\n",
    "counts = df_batch1['text'].value_counts()\n",
    "df_batch1['count'] = df_batch1.groupby('text')['text'].transform('count')\n",
    "df_add = df_batch1[df_batch1['text'].isin(counts[counts < 3].index)]\n",
    "df_add = df_add.drop_duplicates(subset='text', keep='first')\n",
    "df_add['session_id'] = 'manual'\n",
    "df_batch1_new = pd.concat([df_batch1, df_add], ignore_index=True)\n",
    "\n",
    "df_batch1_new = df_batch1_new.drop('count', axis=1)\n",
    "df_batch1_new['answer'] = df_batch1_new['answer'].fillna(value='accept')\n",
    "\n",
    "#remove non unicode chars and write to csv\n",
    "df_batch1_new['text'] = df_batch1_new['text'].replace({r'[^\\x00-\\x7F]+':''}, regex=True)\n",
    "df_batch1_new.to_csv('data/preprocessed_batch1.csv', sep=';', encoding='utf8')"
   ]
  },
  {
   "cell_type": "markdown",
   "id": "c53dc9ac-1829-4c26-a2f4-8db0a84734b7",
   "metadata": {},
   "source": [
    "## Batch 2"
   ]
  },
  {
   "cell_type": "code",
   "execution_count": 9,
   "id": "99c2ba43-a68d-432a-99fb-24a02ef61b6b",
   "metadata": {
    "tags": []
   },
   "outputs": [],
   "source": [
    "conn = sqlite3.connect('batch2.db')\n",
    "\n",
    "# Get a cursor object\n",
    "cursor = conn.cursor()\n",
    "\n",
    "# Query the SQLite database for a list of all tables\n",
    "cursor.execute(\"SELECT name FROM sqlite_master WHERE type='table';\")\n",
    "table_names = cursor.fetchall()\n",
    "\n",
    "# Read data from a table in the database into a pandas DataFrame\n",
    "df = pd.read_sql_query('SELECT * FROM example', conn)\n",
    "\n",
    "# Close the cursor and the connection to the database\n",
    "cursor.close()\n",
    "conn.close()"
   ]
  },
  {
   "cell_type": "code",
   "execution_count": 10,
   "id": "229cace6-f071-49c2-a2db-cc2232f11e6e",
   "metadata": {
    "tags": []
   },
   "outputs": [
    {
     "data": {
      "text/plain": [
       "'Telefonische contact  was goed     daarna  niets meer vangehoord  terwijl ik de volgende dag  iets zou horen  nu  2 dagen verder'"
      ]
     },
     "execution_count": 10,
     "metadata": {},
     "output_type": "execute_result"
    }
   ],
   "source": [
    "df_batch2 = pd.DataFrame()\n",
    "\n",
    "df_batch2['prodigy_output'] = df['content']\n",
    "\n",
    "df_batch2['decoded_output'] = df_batch2['prodigy_output'].apply(lambda x: literal_eval(x.decode('utf8')))\n",
    "\n",
    "df_batch2['decoded_output'][0]['text']"
   ]
  },
  {
   "cell_type": "code",
   "execution_count": 11,
   "id": "07b70d3b-4126-476e-909d-f5ae36e9e8c3",
   "metadata": {
    "tags": []
   },
   "outputs": [],
   "source": [
    "##retrieve text\n",
    "def retrieve_var(var_name: str, col_name: str):\n",
    "    get_var = lambda row: row['decoded_output'][var_name]\n",
    "    df_batch2[col_name] = df_batch2.apply(get_var, axis= 1)"
   ]
  },
  {
   "cell_type": "code",
   "execution_count": 12,
   "id": "109e5c8b-5384-4117-9107-5513c452693c",
   "metadata": {
    "tags": []
   },
   "outputs": [],
   "source": [
    "retrieve_var('datum_resultaat', 'datum_resultaat')\n",
    "retrieve_var('text', 'text')\n",
    "retrieve_var('_session_id', 'session_id')\n",
    "retrieve_var('answer', 'answer')\n",
    "retrieve_var('accept', 'accept')"
   ]
  },
  {
   "cell_type": "code",
   "execution_count": 13,
   "id": "81458ac1-be53-404d-9c57-e9509e632af4",
   "metadata": {
    "tags": []
   },
   "outputs": [
    {
     "data": {
      "text/plain": [
       "(1998, 7)"
      ]
     },
     "execution_count": 13,
     "metadata": {},
     "output_type": "execute_result"
    }
   ],
   "source": [
    "df_batch2['accept'] = df_batch2['accept'].apply(lambda x: sorted(x))\n",
    "df_batch2.shape\n",
    "\n",
    "#df_batch1 = df_batch1[df_batch1['session_id'] != 'batch1-health']\n",
    "#df_batch1.shape"
   ]
  },
  {
   "cell_type": "code",
   "execution_count": 14,
   "id": "24769543-a9f3-490c-b8f2-094779d10e2a",
   "metadata": {
    "tags": []
   },
   "outputs": [],
   "source": [
    "#add missing annotations\n",
    "counts = df_batch2['text'].value_counts()\n",
    "df_batch2['count'] = df_batch2.groupby('text')['text'].transform('count')\n",
    "df_add = df_batch2[df_batch2['text'].isin(counts[counts < 4].index)]\n",
    "df_add = df_add.drop_duplicates(subset='text', keep='first')\n",
    "df_add['session_id'] = 'manual'\n",
    "df_batch2_new = pd.concat([df_batch2, df_add], ignore_index=True)\n",
    "\n",
    "df_batch2_new = df_batch2_new.drop('count', axis=1)\n",
    "df_batch2_new['answer'] = df_batch2_new['answer'].fillna(value='accept')\n",
    "\n",
    "#remove non unicode chars and write to csv\n",
    "df_batch2_new['text'] = df_batch2_new['text'].replace({r'[^\\x00-\\x7F]+':''}, regex=True)\n",
    "df_batch2_new.to_csv('data/preprocessed_batch2.csv', sep=';', encoding='utf8')"
   ]
  },
  {
   "cell_type": "markdown",
   "id": "f7906c80-e6da-4f76-99d2-997339e7525a",
   "metadata": {},
   "source": [
    "## Batch 3"
   ]
  },
  {
   "cell_type": "code",
   "execution_count": 15,
   "id": "53e85429-6261-4ce6-9935-c8a77a2cfed2",
   "metadata": {
    "tags": []
   },
   "outputs": [],
   "source": [
    "conn = sqlite3.connect('batch3.db')\n",
    "\n",
    "# Get a cursor object\n",
    "cursor = conn.cursor()\n",
    "\n",
    "# Query the SQLite database for a list of all tables\n",
    "cursor.execute(\"SELECT name FROM sqlite_master WHERE type='table';\")\n",
    "table_names = cursor.fetchall()\n",
    "\n",
    "# Read data from a table in the database into a pandas DataFrame\n",
    "df = pd.read_sql_query('SELECT * FROM example', conn)\n",
    "\n",
    "# Close the cursor and the connection to the database\n",
    "cursor.close()\n",
    "conn.close()"
   ]
  },
  {
   "cell_type": "code",
   "execution_count": 16,
   "id": "27baceeb-93bb-4e6f-b5c4-8f6a534b0aa8",
   "metadata": {
    "tags": []
   },
   "outputs": [
    {
     "data": {
      "text/plain": [
       "'Bij vak inhoudelijke trainingen die op future friday worden gegeven, zou het raadzaam zijn om rekening te houden met aantal trainees. Tot nu toe 3x geprobeerd in te schrijven en altijd vol...'"
      ]
     },
     "execution_count": 16,
     "metadata": {},
     "output_type": "execute_result"
    }
   ],
   "source": [
    "df_batch3 = pd.DataFrame()\n",
    "\n",
    "df_batch3['prodigy_output'] = df['content']\n",
    "\n",
    "df_batch3['decoded_output'] = df_batch3['prodigy_output'].apply(lambda x: literal_eval(x.decode('utf8')))\n",
    "\n",
    "df_batch3['decoded_output'][0]['text']"
   ]
  },
  {
   "cell_type": "code",
   "execution_count": 17,
   "id": "dab5f13d-25ae-44f5-9b40-20ae2e668b53",
   "metadata": {
    "tags": []
   },
   "outputs": [],
   "source": [
    "##retrieve text\n",
    "def retrieve_var(var_name: str, col_name: str):\n",
    "    get_var = lambda row: row['decoded_output'][var_name]\n",
    "    df_batch3[col_name] = df_batch3.apply(get_var, axis= 1)"
   ]
  },
  {
   "cell_type": "code",
   "execution_count": 18,
   "id": "e8e9c7a5-2644-450d-98a4-60f2738b6d85",
   "metadata": {
    "tags": []
   },
   "outputs": [],
   "source": [
    "retrieve_var('datum_resultaat', 'datum_resultaat')\n",
    "retrieve_var('text', 'text')\n",
    "retrieve_var('_session_id', 'session_id')\n",
    "retrieve_var('answer', 'answer')\n",
    "retrieve_var('accept', 'accept')"
   ]
  },
  {
   "cell_type": "code",
   "execution_count": 19,
   "id": "681997f5-beb0-4bb6-8ad4-8564af07ca02",
   "metadata": {
    "tags": []
   },
   "outputs": [
    {
     "data": {
      "text/plain": [
       "(1993, 7)"
      ]
     },
     "execution_count": 19,
     "metadata": {},
     "output_type": "execute_result"
    }
   ],
   "source": [
    "df_batch3['accept'] = df_batch3['accept'].apply(lambda x: sorted(x))\n",
    "df_batch3.shape"
   ]
  },
  {
   "cell_type": "code",
   "execution_count": 20,
   "id": "4fede49a-9d4e-432f-9b2d-41dafa1652d2",
   "metadata": {
    "tags": []
   },
   "outputs": [],
   "source": [
    "#add missing annotations\n",
    "counts = df_batch3['text'].value_counts()\n",
    "df_batch3['count'] = df_batch3.groupby('text')['text'].transform('count')\n",
    "df_add = df_batch3[df_batch3['text'].isin(counts[counts < 4].index)]\n",
    "df_add = df_add.drop_duplicates(subset='text', keep='first')\n",
    "df_add['session_id'] = 'manual'\n",
    "df_batch3_new = pd.concat([df_batch3, df_add], ignore_index=True)\n",
    "\n",
    "df_batch3_new = df_batch3_new.drop('count', axis=1)\n",
    "df_batch3_new['answer'] = df_batch3_new['answer'].fillna(value='accept')\n",
    "\n",
    "#remove non unicode chars and write to csv\n",
    "df_batch3_new['text'] = df_batch3_new['text'].replace({r'[^\\x00-\\x7F]+':''}, regex=True)\n",
    "df_batch3_new.to_csv('data/preprocessed_batch3.csv', sep=';', encoding='utf8')"
   ]
  },
  {
   "cell_type": "markdown",
   "id": "6bda45bc-80c0-4279-bd43-fe63dcbe8155",
   "metadata": {},
   "source": [
    "# Annotation evaluation"
   ]
  },
  {
   "cell_type": "code",
   "execution_count": 21,
   "id": "a709c5d6-a46c-4df4-b909-0fba66798757",
   "metadata": {
    "tags": []
   },
   "outputs": [],
   "source": [
    "batch1 = pd.read_csv('data/preprocessed_batch1.csv', sep=';')\n",
    "batch2 = pd.read_csv('data/preprocessed_batch2.csv', sep=';')\n",
    "batch3 = pd.read_csv('data/preprocessed_batch3.csv', sep=';')"
   ]
  },
  {
   "cell_type": "markdown",
   "id": "ce7e17d9-efef-4640-9d83-df2262172cb0",
   "metadata": {},
   "source": [
    "## batch 1"
   ]
  },
  {
   "cell_type": "code",
   "execution_count": 22,
   "id": "807ac5ce-3a2c-4c67-af7a-0fc8037763ef",
   "metadata": {
    "tags": []
   },
   "outputs": [
    {
     "data": {
      "text/plain": [
       "(500, 3)"
      ]
     },
     "execution_count": 22,
     "metadata": {},
     "output_type": "execute_result"
    }
   ],
   "source": [
    "pivoted_df1 = batch1.groupby(['text', 'session_id'])['accept'].first().unstack().reset_index()\n",
    "\n",
    "# Create a subset of the DataFrame with relevant columns and replacement column\n",
    "df_subset1 = pivoted_df1[['text', 'batch1-p1dJf8bNcR','batch1-q1kEz5xVnW','batch1-s1gHt0uLrM', 'manual']].copy()\n",
    "\n",
    "# Replace NaN values in each column with values from the 'Replacement' column\n",
    "for col in df_subset1.columns:\n",
    "    df_subset1[col].fillna(df_subset1['manual'], inplace=True)\n",
    "    \n",
    "df1_withtext = df_subset1.drop(['manual'], axis=1)\n",
    "df_subset1 = df_subset1.drop(['manual', 'text'], axis=1)\n",
    "df_subset1.shape"
   ]
  },
  {
   "cell_type": "code",
   "execution_count": 23,
   "id": "c081467c-7edf-4964-8479-bf0f01e35b7b",
   "metadata": {
    "tags": []
   },
   "outputs": [
    {
     "name": "stdout",
     "output_type": "stream",
     "text": [
      "Krippendorff's alpha: -9.212111230860742e-05 \n",
      "\n",
      "Fleiss' Kappa between the three columns: ==================================================\n",
      "            Fleiss` Kappa for m Raters            \n",
      "==================================================\n",
      "Subjects = 500\n",
      "  Raters = 3\n",
      "   Kappa = 0.596\n",
      "\n",
      "       z = 65.698\n",
      " p-value = 0.000\n",
      "\n",
      "    Kappa       z  p.value\n",
      "0   0.451  17.448    0.000\n",
      "1   0.197   7.642    0.000\n",
      "2   0.329  12.754    0.000\n",
      "3  -0.001  -0.026    0.979\n",
      "4   0.673  26.065    0.000\n",
      "5  -0.001  -0.026    0.979\n",
      "6   1.000  38.730    0.000\n",
      "7   0.368  14.263    0.000\n",
      "8   0.246   9.527    0.000\n",
      "9   0.520  20.149    0.000\n",
      "10  0.640  24.801    0.000\n",
      "11 -0.001  -0.026    0.979\n",
      "12  0.351  13.598    0.000\n",
      "13 -0.001  -0.026    0.979\n",
      "14  0.639  24.767    0.000\n",
      "15  0.500  19.349    0.000\n",
      "16 -0.001  -0.026    0.979\n",
      "17  0.498  19.287    0.000\n",
      "18  0.331  12.806    0.000\n",
      "19  0.497  19.261    0.000\n",
      "20  0.499  19.339    0.000\n",
      "21  0.828  32.064    0.000\n",
      "22  0.749  29.021    0.000\n",
      "23 -0.001  -0.026    0.979\n",
      "24 -0.001  -0.026    0.979\n",
      "25 -0.001  -0.026    0.979\n",
      "26  0.360  13.955    0.000\n",
      "27  0.550  21.308    0.000\n",
      "28 -0.001  -0.026    0.979\n",
      "29  0.499  19.339    0.000\n",
      "30 -0.001  -0.026    0.979\n",
      "31  0.749  29.021    0.000\n",
      "32  0.569  22.054    0.000\n",
      "33  0.681  26.382    0.000\n",
      "34  0.398  15.414    0.000\n",
      "35  0.499  19.339    0.000\n",
      "36  0.064   2.494    0.013\n",
      "37 -0.001  -0.026    0.979\n",
      "38  0.713  27.612    0.000\n",
      "39  0.325  12.596    0.000\n",
      "40 -0.001  -0.026    0.979\n",
      "41 -0.002  -0.078    0.938\n",
      "42  0.276  10.673    0.000\n",
      "43 -0.001  -0.026    0.979\n",
      "44  0.692  26.797    0.000\n",
      "45  0.499  19.339    0.000\n",
      "46 -0.001  -0.052    0.959\n",
      "47  0.351  13.598    0.000\n",
      "48  0.499  19.339    0.000\n",
      "49  0.244   9.448    0.000\n",
      "50  0.799  30.958    0.000\n",
      "51 -0.001  -0.026    0.979\n",
      "52  0.601  23.270    0.000\n",
      "53 -0.001  -0.026    0.979\n",
      "54  0.195   7.538    0.000\n",
      "55 -0.001  -0.026    0.979\n",
      "==================================================\n",
      "\n",
      "In total, 258 sentences have a 100% agreement, \n",
      "198 have agreement between 2/3 annotators\n",
      "and 44 have no agreement and thus need reannotation.\n"
     ]
    }
   ],
   "source": [
    "# Convert non-numeric annotations to integer labels\n",
    "unique_labels = set()\n",
    "for col in df_subset1.columns:\n",
    "    if not pd.api.types.is_numeric_dtype(df_subset1[col]):\n",
    "        unique_labels.update(df_subset1[col].unique())\n",
    "\n",
    "label_dict = {label: i for i, label in enumerate(unique_labels)}\n",
    "for col in df_subset1.columns:\n",
    "    if not pd.api.types.is_numeric_dtype(df_subset1[col]):\n",
    "        df_subset1[col] = df_subset1[col].apply(lambda x: label_dict[x])\n",
    "\n",
    "# Convert annotations to a numpy array\n",
    "annotations = df_subset1.to_numpy()\n",
    "\n",
    "# Calculate Krippendorff's alpha\n",
    "alpha = krippendorff.alpha(reliability_data=annotations, level_of_measurement='nominal')\n",
    "\n",
    "print('Krippendorff\\'s alpha:', alpha, '\\n')\n",
    "\n",
    "\n",
    "kappa = kappam_fleiss(annotations, detail=True)\n",
    "\n",
    "print(f\"Fleiss' Kappa between the three columns: {kappa}\")\n",
    "\n",
    "# Create a mask for each condition\n",
    "mask_all_same = (df1_withtext['batch1-p1dJf8bNcR'] == df1_withtext['batch1-q1kEz5xVnW']) & (df1_withtext['batch1-q1kEz5xVnW'] == df1_withtext['batch1-s1gHt0uLrM'])\n",
    "mask_two_same = ((df1_withtext['batch1-p1dJf8bNcR'] == df1_withtext['batch1-q1kEz5xVnW']) | (df1_withtext['batch1-p1dJf8bNcR'] == df1_withtext['batch1-s1gHt0uLrM']) | (df1_withtext['batch1-q1kEz5xVnW'] == df1_withtext['batch1-s1gHt0uLrM'])) & (~mask_all_same)\n",
    "mask_all_different = ~(mask_all_same | mask_two_same)\n",
    "\n",
    "# Create the dataframes based on the masks\n",
    "df_all_same = df1_withtext[mask_all_same].copy()\n",
    "df_two_same = df1_withtext[mask_two_same].copy()\n",
    "df_all_different = df1_withtext[mask_all_different].copy()\n",
    "\n",
    "print(f\"In total, {df_all_same.shape[0]} sentences have a 100% agreement, \\n{df_two_same.shape[0]} have agreement between 2/3 annotators\\nand {df_all_different.shape[0]} have no agreement and thus need reannotation.\")"
   ]
  },
  {
   "cell_type": "code",
   "execution_count": 24,
   "id": "524147ca-334b-4f8c-a7ac-c56eefb3b336",
   "metadata": {
    "tags": []
   },
   "outputs": [],
   "source": [
    "def find_annotations(row):\n",
    "    #print(row[1])\n",
    "    #print(row[2])\n",
    "    #print(row[3])\n",
    "    list_once = list()\n",
    "    list_twice = list()\n",
    "    if row[1] == row[2]:\n",
    "        list_twice.append(row[1])\n",
    "        list_once.append(row[3])\n",
    "    if row[1] == row[3]:\n",
    "        list_twice.append(row[1])\n",
    "        list_once.append(row[2])\n",
    "    if row[2] == row[3]:\n",
    "        list_twice.append(row[2])\n",
    "        list_once.append(row[1])\n",
    "    #print(list_once)\n",
    "    #print(list_twice)\n",
    "    return pd.Series([ast.literal_eval(list_once[0]), ast.literal_eval(list_twice[0])], index=['once', 'twice']) "
   ]
  },
  {
   "cell_type": "markdown",
   "id": "4062c0c7-b2a7-4bfa-9e2d-0071c9e1b9d6",
   "metadata": {},
   "source": [
    "### prepare final dataset for batch 1"
   ]
  },
  {
   "cell_type": "code",
   "execution_count": 25,
   "id": "dc5929c4-6dff-4b53-91ac-4629838dac28",
   "metadata": {
    "tags": []
   },
   "outputs": [
    {
     "name": "stdout",
     "output_type": "stream",
     "text": [
      "Counter({False: 116, True: 82})\n"
     ]
    }
   ],
   "source": [
    "# Find the common annotation for each row\n",
    "df_two_same['common_annotation'] = df_two_same.apply(\n",
    "    lambda row: row['batch1-p1dJf8bNcR'] if row['batch1-p1dJf8bNcR'] == row['batch1-q1kEz5xVnW'] or row['batch1-p1dJf8bNcR'] == row['batch1-s1gHt0uLrM'] else row['batch1-q1kEz5xVnW'],\n",
    "    axis=1\n",
    ")\n",
    "\n",
    "new_df = pd.DataFrame()\n",
    "# Apply the function to the column and create new columns\n",
    "new_df = df_two_same.apply(find_annotations, axis=1)\n",
    "new_df['occurs_in_twice'] = new_df.apply(lambda row: any(value in row['twice'] for value in row['once']), axis=1)\n",
    "print(Counter(new_df['occurs_in_twice']))\n",
    "\n",
    "# Drop the annotator columns\n",
    "df_two_same = df_two_same.drop(columns=['batch1-p1dJf8bNcR','batch1-q1kEz5xVnW','batch1-s1gHt0uLrM'])\n",
    "\n",
    "# Drop duplicate sentences and keep the common annotation\n",
    "df_two_same = df_two_same.drop_duplicates(subset=['text'], keep='first')\n",
    "\n",
    "# Drop duplicate sentences and keep the first annotator's annotation\n",
    "df_all_same = df_all_same[['text', 'batch1-p1dJf8bNcR']].drop_duplicates(subset=['text'], keep='first')\n",
    "\n",
    "# Rename the 'annotator1' column to 'common_annotation'\n",
    "df_all_same = df_all_same.rename(columns={'batch1-p1dJf8bNcR': 'common_annotation'})\n",
    "df_all_same = df_all_same[['text', 'common_annotation']]"
   ]
  },
  {
   "cell_type": "code",
   "execution_count": 26,
   "id": "b00d5985-a9bb-4dfe-83a8-ac052abfca18",
   "metadata": {
    "tags": []
   },
   "outputs": [
    {
     "data": {
      "text/plain": [
       "Counter({False: 116, True: 82})"
      ]
     },
     "execution_count": 26,
     "metadata": {},
     "output_type": "execute_result"
    }
   ],
   "source": [
    "Counter(new_df['occurs_in_twice'])"
   ]
  },
  {
   "cell_type": "code",
   "execution_count": 27,
   "id": "39183899-a476-4c34-b0ac-7942f8f49269",
   "metadata": {
    "tags": []
   },
   "outputs": [
    {
     "data": {
      "text/plain": [
       "0.7068965517241379"
      ]
     },
     "execution_count": 27,
     "metadata": {},
     "output_type": "execute_result"
    }
   ],
   "source": [
    "82/116"
   ]
  },
  {
   "cell_type": "code",
   "execution_count": 28,
   "id": "edde3669-4b01-4512-b82f-1c251d25e4a7",
   "metadata": {
    "tags": []
   },
   "outputs": [],
   "source": [
    "#store df's per batch\n",
    "df1all_same = df_all_same.copy()\n",
    "df1two_same =df_two_same.copy()\n",
    "df1all_different = df_all_different.copy()\n",
    "\n",
    "#combine datasets with agreement\n",
    "batch1_dataset = pd.concat([df_all_same, df_two_same])\n",
    "batch1_dataset\n",
    "\n",
    "#write dataset without agreement to .csv for re-annotation\n",
    "df_all_different['common_annotation'] = ''\n",
    "#df_all_different.to_csv(\"data/batch1_reannotation.csv\", sep=\";\")"
   ]
  },
  {
   "cell_type": "markdown",
   "id": "b892d82f-530a-4ab8-b077-ebcee0d2397e",
   "metadata": {
    "tags": []
   },
   "source": [
    "## batch2"
   ]
  },
  {
   "cell_type": "code",
   "execution_count": 29,
   "id": "93bfe241-1591-465c-b0b0-9d8ed4e65461",
   "metadata": {
    "tags": []
   },
   "outputs": [
    {
     "data": {
      "text/plain": [
       "(500, 3)"
      ]
     },
     "execution_count": 29,
     "metadata": {},
     "output_type": "execute_result"
    }
   ],
   "source": [
    "pivoted_df2 = batch2.groupby(['text', 'session_id'])['accept'].first().unstack().reset_index()\n",
    "\n",
    "# Create a subset of the DataFrame with relevant columns and replacement column\n",
    "#df_subset2 = pivoted_df2[['text', 'batch2-v2gJkDpZ5M', 'batch2-x2wPqT7rS4','batch2-y2nLcHfB8X', 'manual']].copy()\n",
    "df_subset2 = pivoted_df2[['text', 'batch2-health', 'batch2-v2gJkDpZ5M','batch2-y2nLcHfB8X', 'manual']].copy()\n",
    "\n",
    "# Replace NaN values in each column with values from the 'Replacement' column\n",
    "for col in df_subset2.columns:\n",
    "    df_subset2[col].fillna(df_subset2['manual'], inplace=True)\n",
    "    \n",
    "df2_withtext = df_subset2.drop(['manual'], axis=1)\n",
    "df_subset2 = df_subset2.drop(['manual', 'text'], axis=1)\n",
    "df_subset2.shape"
   ]
  },
  {
   "cell_type": "code",
   "execution_count": 30,
   "id": "d416d96f-6ae1-4f63-b064-88feb4367740",
   "metadata": {
    "tags": []
   },
   "outputs": [
    {
     "data": {
      "text/plain": [
       "Index(['text', 'batch2-health', 'batch2-v2gJkDpZ5M', 'batch2-x2wPqT7rS4',\n",
       "       'batch2-y2nLcHfB8X', 'manual'],\n",
       "      dtype='object', name='session_id')"
      ]
     },
     "execution_count": 30,
     "metadata": {},
     "output_type": "execute_result"
    }
   ],
   "source": [
    "pivoted_df2.columns"
   ]
  },
  {
   "cell_type": "code",
   "execution_count": 31,
   "id": "e70db2f6-9077-425e-b93e-7449110a56b8",
   "metadata": {
    "tags": []
   },
   "outputs": [
    {
     "name": "stdout",
     "output_type": "stream",
     "text": [
      "Krippendorff's alpha: 0.002024011349653687 \n",
      "\n",
      "Fleiss' Kappa between the three columns: ==================================================\n",
      "            Fleiss` Kappa for m Raters            \n",
      "==================================================\n",
      "Subjects = 500\n",
      "  Raters = 3\n",
      "   Kappa = 0.467\n",
      "\n",
      "       z = 55.623\n",
      " p-value = 0.000\n",
      "\n",
      "    Kappa       z  p.value\n",
      "0  -0.003  -0.104    0.918\n",
      "1  -0.001  -0.026    0.979\n",
      "2  -0.001  -0.026    0.979\n",
      "3  -0.001  -0.052    0.959\n",
      "4   0.465  17.991    0.000\n",
      "..    ...     ...      ...\n",
      "72  0.462  17.891    0.000\n",
      "73 -0.003  -0.130    0.897\n",
      "74 -0.003  -0.130    0.897\n",
      "75 -0.002  -0.078    0.938\n",
      "76 -0.001  -0.026    0.979\n",
      "\n",
      "[77 rows x 3 columns]\n",
      "==================================================\n",
      "\n",
      "In total, 193 sentences have a 100% agreement, \n",
      "210 have agreement between 2/3 annotators\n",
      "and 97 have no agreement and thus need reannotation.\n"
     ]
    }
   ],
   "source": [
    "# Convert non-numeric annotations to integer labels\n",
    "unique_labels = set()\n",
    "for col in df_subset2.columns:\n",
    "    if not pd.api.types.is_numeric_dtype(df_subset2[col]):\n",
    "        unique_labels.update(df_subset2[col].unique())\n",
    "\n",
    "label_dict = {label: i for i, label in enumerate(unique_labels)}\n",
    "for col in df_subset2.columns:\n",
    "    if not pd.api.types.is_numeric_dtype(df_subset2[col]):\n",
    "        df_subset2[col] = df_subset2[col].apply(lambda x: label_dict[x])\n",
    "\n",
    "# Convert annotations to a numpy array\n",
    "annotations = df_subset2.to_numpy()\n",
    "\n",
    "# Calculate Krippendorff's alpha\n",
    "alpha = krippendorff.alpha(reliability_data=annotations, level_of_measurement='nominal')\n",
    "\n",
    "print('Krippendorff\\'s alpha:', alpha, '\\n')\n",
    "\n",
    "\n",
    "kappa = kappam_fleiss(annotations, detail=True)\n",
    "\n",
    "print(f\"Fleiss' Kappa between the three columns: {kappa}\")\n",
    "\n",
    "# Create a mask for each condition\n",
    "mask_all_same = (df2_withtext['batch2-v2gJkDpZ5M'] == df2_withtext['batch2-health']) & (df2_withtext['batch2-health'] == df2_withtext['batch2-y2nLcHfB8X'])\n",
    "mask_two_same = ((df2_withtext['batch2-v2gJkDpZ5M'] == df2_withtext['batch2-health']) | (df2_withtext['batch2-v2gJkDpZ5M'] == df2_withtext['batch2-y2nLcHfB8X']) | (df2_withtext['batch2-health'] == df2_withtext['batch2-y2nLcHfB8X'])) & (~mask_all_same)\n",
    "mask_all_different = ~(mask_all_same | mask_two_same)\n",
    "\n",
    "# Create the dataframes based on the masks\n",
    "df_all_same = df2_withtext[mask_all_same].copy()\n",
    "df_two_same = df2_withtext[mask_two_same].copy()\n",
    "df_all_different = df2_withtext[mask_all_different].copy()\n",
    "\n",
    "print(f\"In total, {df_all_same.shape[0]} sentences have a 100% agreement, \\n{df_two_same.shape[0]} have agreement between 2/3 annotators\\nand {df_all_different.shape[0]} have no agreement and thus need reannotation.\")\n"
   ]
  },
  {
   "cell_type": "markdown",
   "id": "64c8eb8c-0cce-411d-b6f0-1e926d5ca0a6",
   "metadata": {},
   "source": [
    "### prepare final dataset for batch 2"
   ]
  },
  {
   "cell_type": "code",
   "execution_count": 32,
   "id": "69268b22-8451-4f10-a38c-963ba3d2b19f",
   "metadata": {
    "tags": []
   },
   "outputs": [
    {
     "name": "stdout",
     "output_type": "stream",
     "text": [
      "Counter({False: 146, True: 64})\n"
     ]
    }
   ],
   "source": [
    "# Find the common annotation for each row\n",
    "df_two_same['common_annotation'] = df_two_same.apply(\n",
    "    lambda row: row['batch2-v2gJkDpZ5M'] if row['batch2-v2gJkDpZ5M'] == row['batch2-health'] or row['batch2-v2gJkDpZ5M'] == row['batch2-y2nLcHfB8X'] else row['batch2-health'],\n",
    "    axis=1\n",
    ")\n",
    "\n",
    "new_df = pd.DataFrame()\n",
    "# Apply the function to the column and create new columns\n",
    "new_df = df_two_same.apply(find_annotations, axis=1)\n",
    "new_df['occurs_in_twice'] = new_df.apply(lambda row: any(value in row['twice'] for value in row['once']), axis=1)\n",
    "print(Counter(new_df['occurs_in_twice']))\n",
    "\n",
    "# Drop the annotator columns\n",
    "df_two_same = df_two_same.drop(columns=['batch2-v2gJkDpZ5M','batch2-health','batch2-y2nLcHfB8X'])\n",
    "\n",
    "# Drop duplicate sentences and keep the common annotation\n",
    "df_two_same = df_two_same.drop_duplicates(subset=['text'], keep='first')\n",
    "\n",
    "# Drop duplicate sentences and keep the first annotator's annotation\n",
    "df_all_same = df_all_same[['text', 'batch2-v2gJkDpZ5M']].drop_duplicates(subset=['text'], keep='first')\n",
    "\n",
    "# Rename the 'annotator1' column to 'common_annotation'\n",
    "df_all_same = df_all_same.rename(columns={'batch2-v2gJkDpZ5M': 'common_annotation'})\n",
    "df_all_same = df_all_same[['text', 'common_annotation']]"
   ]
  },
  {
   "cell_type": "code",
   "execution_count": 33,
   "id": "c8917c06-9a70-4a9b-b0af-8bc3ef4b1309",
   "metadata": {
    "tags": []
   },
   "outputs": [
    {
     "data": {
      "text/plain": [
       "0.4383561643835616"
      ]
     },
     "execution_count": 33,
     "metadata": {},
     "output_type": "execute_result"
    }
   ],
   "source": [
    "64/146"
   ]
  },
  {
   "cell_type": "code",
   "execution_count": 34,
   "id": "40ef372c-e50b-414a-9bbe-67a9185480e4",
   "metadata": {
    "tags": []
   },
   "outputs": [],
   "source": [
    "#store df's per batch\n",
    "df2all_same = df_all_same.copy()\n",
    "df2two_same = df_two_same.copy()\n",
    "df2all_different = df_all_different.copy()\n",
    "\n",
    "#combine datasets with agreement\n",
    "batch2_dataset = pd.concat([df_all_same, df_two_same])\n",
    "batch2_dataset\n",
    "\n",
    "#write dataset without agreement to .csv for re-annotation\n",
    "df_all_different['common_annotation'] = ''\n",
    "#df_all_different.to_csv(\"data/batch2_reannotation.csv\", sep=\";\")"
   ]
  },
  {
   "cell_type": "markdown",
   "id": "2fc25807-a883-4f48-8907-6d228fa1967e",
   "metadata": {
    "tags": []
   },
   "source": [
    "## batch3"
   ]
  },
  {
   "cell_type": "code",
   "execution_count": 35,
   "id": "f014a86c-792e-4a6e-afc3-8977973adb8e",
   "metadata": {
    "tags": []
   },
   "outputs": [
    {
     "data": {
      "text/plain": [
       "(500, 3)"
      ]
     },
     "execution_count": 35,
     "metadata": {},
     "output_type": "execute_result"
    }
   ],
   "source": [
    "pivoted_df3 = batch3.groupby(['text', 'session_id'])['accept'].first().unstack().reset_index()\n",
    "\n",
    "# Create a subset of the DataFrame with relevant columns and replacement column\n",
    "#df_subset3 = pivoted_df3[['text', 'batch3-m3wQfDdV4G', 'batch3-u3cNtS9xR7','batch3-z3pKjHnB5L', 'manual']].copy()\n",
    "#df_subset3 = pivoted_df3[['text', 'batch3-health', 'batch3-u3cNtS9xR7','batch3-z3pKjHnB5L', 'manual']].copy()\n",
    "#df_subset3 = pivoted_df3[['text', 'batch3-m3wQfDdV4G', 'batch3-health','batch3-z3pKjHnB5L', 'manual']].copy()\n",
    "df_subset3 = pivoted_df3[['text', 'batch3-m3wQfDdV4G', 'batch3-u3cNtS9xR7','batch3-health', 'manual']].copy()\n",
    "\n",
    "# Replace NaN values in each column with values from the 'Replacement' column\n",
    "for col in df_subset3.columns:\n",
    "    df_subset3[col].fillna(df_subset3['manual'], inplace=True)\n",
    "    \n",
    "df3_withtext = df_subset3.drop(['manual'], axis=1)\n",
    "df_subset3 = df_subset3.drop(['manual', 'text'], axis=1)\n",
    "df_subset3.shape"
   ]
  },
  {
   "cell_type": "code",
   "execution_count": 36,
   "id": "a32288be-5f63-4186-8218-ebfc28383f58",
   "metadata": {
    "tags": []
   },
   "outputs": [
    {
     "name": "stdout",
     "output_type": "stream",
     "text": [
      "Krippendorff's alpha: 0.001114507785556218 \n",
      "\n",
      "Fleiss' Kappa between the three columns: ==================================================\n",
      "            Fleiss` Kappa for m Raters            \n",
      "==================================================\n",
      "Subjects = 500\n",
      "  Raters = 3\n",
      "   Kappa = 0.550\n",
      "\n",
      "       z = 64.327\n",
      " p-value = 0.000\n",
      "\n",
      "    Kappa       z  p.value\n",
      "0   0.497  19.235    0.000\n",
      "1   0.329  12.754    0.000\n",
      "2   0.248   9.605    0.000\n",
      "3  -0.002  -0.078    0.938\n",
      "4   0.661  25.596    0.000\n",
      "..    ...     ...      ...\n",
      "60  0.499  19.339    0.000\n",
      "61  0.498  19.296    0.000\n",
      "62 -0.001  -0.026    0.979\n",
      "63  0.749  29.021    0.000\n",
      "64 -0.001  -0.026    0.979\n",
      "\n",
      "[65 rows x 3 columns]\n",
      "==================================================\n",
      "\n",
      "In total, 235 sentences have a 100% agreement, \n",
      "200 have agreement between 2/3 annotators\n",
      "and 65 have no agreement and thus need reannotation.\n"
     ]
    }
   ],
   "source": [
    "# Convert non-numeric annotations to integer labels\n",
    "unique_labels = set()\n",
    "for col in df_subset3.columns:\n",
    "    if not pd.api.types.is_numeric_dtype(df_subset3[col]):\n",
    "        unique_labels.update(df_subset3[col].unique())\n",
    "\n",
    "label_dict = {label: i for i, label in enumerate(unique_labels)}\n",
    "for col in df_subset3.columns:\n",
    "    if not pd.api.types.is_numeric_dtype(df_subset3[col]):\n",
    "        df_subset3[col] = df_subset3[col].apply(lambda x: label_dict[x])\n",
    "\n",
    "# Convert annotations to a numpy array\n",
    "annotations = df_subset3.to_numpy()\n",
    "\n",
    "# Calculate Krippendorff's alpha\n",
    "alpha = krippendorff.alpha(reliability_data=annotations, level_of_measurement='nominal')\n",
    "\n",
    "print('Krippendorff\\'s alpha:', alpha, '\\n')\n",
    "\n",
    "\n",
    "kappa = kappam_fleiss(annotations, detail=True)\n",
    "\n",
    "print(f\"Fleiss' Kappa between the three columns: {kappa}\")\n",
    "\n",
    "# Create a mask for each condition\n",
    "mask_all_same = (df3_withtext['batch3-m3wQfDdV4G'] == df3_withtext['batch3-u3cNtS9xR7']) & (df3_withtext['batch3-u3cNtS9xR7'] == df3_withtext['batch3-health'])\n",
    "mask_two_same = ((df3_withtext['batch3-m3wQfDdV4G'] == df3_withtext['batch3-u3cNtS9xR7']) | (df3_withtext['batch3-m3wQfDdV4G'] == df3_withtext['batch3-health']) | (df3_withtext['batch3-u3cNtS9xR7'] == df3_withtext['batch3-health'])) & (~mask_all_same)\n",
    "mask_all_different = ~(mask_all_same | mask_two_same)\n",
    "\n",
    "# Create the dataframes based on the masks\n",
    "df_all_same = df3_withtext[mask_all_same].copy()\n",
    "df_two_same = df3_withtext[mask_two_same].copy()\n",
    "df_all_different = df3_withtext[mask_all_different].copy()\n",
    "\n",
    "print(f\"In total, {df_all_same.shape[0]} sentences have a 100% agreement, \\n{df_two_same.shape[0]} have agreement between 2/3 annotators\\nand {df_all_different.shape[0]} have no agreement and thus need reannotation.\")\n",
    "\n"
   ]
  },
  {
   "cell_type": "code",
   "execution_count": 37,
   "id": "666f2605-eb15-4645-88b1-5a3f2d18382a",
   "metadata": {
    "tags": []
   },
   "outputs": [],
   "source": [
    "df = df_two_same\n",
    "\n",
    "annotation_cols = ['batch3-m3wQfDdV4G', 'batch3-u3cNtS9xR7', 'batch3-health']\n",
    "\n",
    "def find_duplicate(x):\n",
    "    if x[0] == x[1] or x[0] == x[2]: \n",
    "        return x[0]\n",
    "    else: \n",
    "        return x[1]\n",
    "\n",
    "# function to find unique annotation\n",
    "def find_unique(x):\n",
    "    if x[0] != x[1] and x[0] != x[2]: \n",
    "        return x[0]\n",
    "    elif x[1] != x[0] and x[1] != x[2]: \n",
    "        return x[1]\n",
    "    else: \n",
    "        return x[2]\n",
    "\n",
    "df['Duplicate_Annotation'] = df[annotation_cols].apply(find_duplicate, axis=1).apply(lambda x: ast.literal_eval(x))\n",
    "df['Unique_Annotation'] = df[annotation_cols].apply(find_unique, axis=1).apply(lambda x: ast.literal_eval(x))\n",
    "\n",
    "# new DataFrame\n",
    "new_df = df[['text', 'Duplicate_Annotation', 'Unique_Annotation']]\n"
   ]
  },
  {
   "cell_type": "code",
   "execution_count": 38,
   "id": "0c4d7783-f40d-471e-85f1-5c0099bed95b",
   "metadata": {
    "tags": []
   },
   "outputs": [],
   "source": [
    "# assuming df is your dataframe and 'col1' and 'col2' are your columns of interest\n",
    "mask = new_df[['Duplicate_Annotation', 'Unique_Annotation']].apply(lambda row: len(row['Duplicate_Annotation']) == 1 and len(row['Unique_Annotation']) == 1, axis=1)\n",
    "\n",
    "filtered_df = new_df[mask]"
   ]
  },
  {
   "cell_type": "code",
   "execution_count": 39,
   "id": "eb1f19d1-6ffd-4d1c-9770-2d5ea5f5891c",
   "metadata": {
    "tags": []
   },
   "outputs": [],
   "source": [
    "#filtered_df.loc[12]['text']"
   ]
  },
  {
   "cell_type": "code",
   "execution_count": 40,
   "id": "52fdabad-9e12-4d03-9558-136310a67ca9",
   "metadata": {
    "tags": []
   },
   "outputs": [
    {
     "data": {
      "image/png": "[encoded data removed]",
      "text/plain": [
       "<Figure size 1000x700 with 2 Axes>"
      ]
     },
     "metadata": {},
     "output_type": "display_data"
    }
   ],
   "source": [
    "y_true = filtered_df['Unique_Annotation'].apply(lambda x: x[0])\n",
    "y_pred = filtered_df['Duplicate_Annotation'].apply(lambda x: x[0])\n",
    "\n",
    "# Get the unique labels\n",
    "labels = np.unique(np.concatenate((y_true.unique(), y_pred.unique())))\n",
    "\n",
    "# Get the confusion matrix\n",
    "cm = confusion_matrix(y_true, y_pred, labels=labels)\n",
    "\n",
    "# Convert the confusion matrix to a DataFrame\n",
    "cm_df = pd.DataFrame(cm, index=labels, columns=labels)\n",
    "\n",
    "plt.figure(figsize=(10,7))\n",
    "sns.heatmap(cm_df, annot=True, fmt='g', cmap='Blues')\n",
    "#plt.title('Confusion Matrix')\n",
    "plt.ylabel('Unique annotation')\n",
    "plt.xlabel('Duplicate annotation')\n",
    "plt.show()"
   ]
  },
  {
   "cell_type": "markdown",
   "id": "6f3bea2a-e118-4934-978c-f4b2d5029eab",
   "metadata": {},
   "source": [
    "### prepare final dataset for batch 3"
   ]
  },
  {
   "cell_type": "code",
   "execution_count": 41,
   "id": "48097b33-d8a0-444a-b9b0-9b6c64de2eaa",
   "metadata": {
    "tags": []
   },
   "outputs": [
    {
     "name": "stdout",
     "output_type": "stream",
     "text": [
      "Counter({False: 136, True: 64})\n"
     ]
    }
   ],
   "source": [
    "# Find the common annotation for each row\n",
    "df_two_same['common_annotation'] = df_two_same.apply(\n",
    "    lambda row: row['batch3-m3wQfDdV4G'] if row['batch3-m3wQfDdV4G'] == row['batch3-u3cNtS9xR7'] or row['batch3-m3wQfDdV4G'] == row['batch3-health'] else row['batch3-u3cNtS9xR7'],\n",
    "    axis=1\n",
    ")\n",
    "\n",
    "new_df = pd.DataFrame()\n",
    "# Apply the function to the column and create new columns\n",
    "new_df = df_two_same.apply(find_annotations, axis=1)\n",
    "new_df['occurs_in_twice'] = new_df.apply(lambda row: any(value in row['twice'] for value in row['once']), axis=1)\n",
    "print(Counter(new_df['occurs_in_twice']))\n",
    "\n",
    "# Drop the annotator columns\n",
    "df_two_same = df_two_same.drop(columns=['batch3-m3wQfDdV4G','batch3-u3cNtS9xR7','batch3-health'])\n",
    "\n",
    "# Drop duplicate sentences and keep the common annotation\n",
    "df_two_same = df_two_same.drop_duplicates(subset=['text'], keep='first')\n",
    "\n",
    "# Drop duplicate sentences and keep the first annotator's annotation\n",
    "df_all_same = df_all_same[['text', 'batch3-m3wQfDdV4G']].drop_duplicates(subset=['text'], keep='first')\n",
    "\n",
    "# Rename the 'annotator1' column to 'common_annotation'\n",
    "df_all_same = df_all_same.rename(columns={'batch3-m3wQfDdV4G': 'common_annotation'})\n",
    "df_all_same = df_all_same[['text', 'common_annotation']]"
   ]
  },
  {
   "cell_type": "code",
   "execution_count": 42,
   "id": "9186c591-60b8-478b-b4da-1e5d86190a70",
   "metadata": {
    "tags": []
   },
   "outputs": [
    {
     "data": {
      "text/plain": [
       "0.47058823529411764"
      ]
     },
     "execution_count": 42,
     "metadata": {},
     "output_type": "execute_result"
    }
   ],
   "source": [
    "64/136"
   ]
  },
  {
   "cell_type": "code",
   "execution_count": 43,
   "id": "f571e95f-e8b1-4240-a262-ed481fc2aee3",
   "metadata": {
    "tags": []
   },
   "outputs": [],
   "source": [
    "#store df's per batch\n",
    "df3all_same = df_all_same.copy()\n",
    "df3two_same = df_two_same.copy()\n",
    "df3all_different = df_all_different.copy()\n",
    "\n",
    "#combine datasets with agreement\n",
    "batch3_dataset = pd.concat([df_all_same, df_two_same])\n",
    "batch3_dataset\n",
    "\n",
    "#write dataset without agreement to .csv for re-annotation\n",
    "df_all_different['common_annotation'] = ''\n",
    "#df_all_different.to_csv(\"data/batch3_reannotation.csv\", sep=\";\")"
   ]
  },
  {
   "cell_type": "code",
   "execution_count": null,
   "id": "eea04d92-51ba-4771-a543-bd6c07d9d5c0",
   "metadata": {
    "tags": []
   },
   "outputs": [],
   "source": []
  },
  {
   "cell_type": "markdown",
   "id": "2dd4caa4-f270-46f7-8125-372d03507f4b",
   "metadata": {
    "tags": []
   },
   "source": [
    "# Descriptive statistics annotation experiment"
   ]
  },
  {
   "cell_type": "code",
   "execution_count": null,
   "id": "58113392-1025-4ccd-970c-1585474f1a48",
   "metadata": {
    "tags": []
   },
   "outputs": [],
   "source": []
  },
  {
   "cell_type": "code",
   "execution_count": 44,
   "id": "51ded71e-3abb-4338-84b2-968242dad4d2",
   "metadata": {
    "tags": []
   },
   "outputs": [],
   "source": [
    "#df with all data with 100 % agreement\n",
    "combined_df_all_same = pd.concat([df1all_same, df2all_same, df3all_same])\n",
    "\n",
    "#df with all data with 2/3 agreement\n",
    "combined_df_two_same = pd.concat([df1two_same, df2two_same, df3two_same])\n",
    "#combined_df_two_same.head()"
   ]
  },
  {
   "cell_type": "code",
   "execution_count": 45,
   "id": "05c9585b-8832-4c28-b555-7a0d0e7ed3a7",
   "metadata": {
    "tags": []
   },
   "outputs": [],
   "source": [
    "#df with all data without agreement (re-annotated)\n",
    "batch1_reannotated = pd.read_excel('data/batch1_reannotation.xlsx', index_col=0)\n",
    "batch2_reannotated = pd.read_excel('data/batch2_reannotation.xlsx', index_col=0)\n",
    "batch3_reannotated = pd.read_excel('data/batch3_reannotation.xlsx', index_col=0)\n",
    "combined_df_all_different = pd.concat([batch1_reannotated, batch2_reannotated, batch3_reannotated])\n"
   ]
  },
  {
   "cell_type": "code",
   "execution_count": 46,
   "id": "7ebff870-a694-411a-98c4-0e323d329795",
   "metadata": {
    "tags": []
   },
   "outputs": [
    {
     "data": {
      "text/plain": [
       "(206, 11)"
      ]
     },
     "execution_count": 46,
     "metadata": {},
     "output_type": "execute_result"
    }
   ],
   "source": [
    "combined_df_all_different.shape"
   ]
  },
  {
   "cell_type": "markdown",
   "id": "c11b7de6-81ac-46aa-bd1d-0025bcb6a1df",
   "metadata": {},
   "source": [
    "## Determine aspects with most and least agreement"
   ]
  },
  {
   "cell_type": "code",
   "execution_count": 47,
   "id": "db4564d6-2c0a-4117-ad1d-713beadfa6f8",
   "metadata": {
    "tags": []
   },
   "outputs": [],
   "source": [
    "def remove_suffix(annotations):\n",
    "    clean_annotations= []\n",
    "    for annotation in ast.literal_eval(annotations):\n",
    "        if annotation.endswith('_POS'):\n",
    "            clean_annotations.append(annotation[:-4])\n",
    "        elif annotation.endswith('_NEG'):\n",
    "            clean_annotations.append(annotation[:-4])\n",
    "        else:\n",
    "            clean_annotations.append(annotation)\n",
    "    return clean_annotations\n"
   ]
  },
  {
   "cell_type": "code",
   "execution_count": 48,
   "id": "70573d01-89f3-4650-af3b-0c0ea13b614a",
   "metadata": {
    "tags": []
   },
   "outputs": [
    {
     "name": "stdout",
     "output_type": "stream",
     "text": [
      "labels with most disagreement:\n",
      " [(\"['persoonlijke-aandacht']\", 26), (\"['niks']\", 24), (\"['contact', 'persoonlijke-aandacht']\", 21), (\"['contact']\", 20), ('[]', 19)] \n",
      "\n",
      "labels with least disagreement:\n",
      " [(\"['niks']\", 229), (\"['persoonlijke-aandacht']\", 192), (\"['salaris']\", 71), (\"['communicatie']\", 50), (\"['roosters-planning']\", 42)] \n",
      "\n"
     ]
    }
   ],
   "source": [
    "# Create a new column with annotations without _POS and _NEG suffixes and sort them alphabetically\n",
    "combined_df_all_different['clean_annotation'] = combined_df_all_different['common_annotation'].apply(remove_suffix).apply(lambda x: sorted(x))\n",
    "combined_df_all_same['clean_annotation'] = combined_df_all_same['common_annotation'].apply(remove_suffix).apply(lambda x: sorted(x))\n",
    "combined_df_two_same['clean_annotation'] = combined_df_two_same['common_annotation'].apply(remove_suffix).apply(lambda x: sorted(x))\n",
    "\n",
    "#sort non cleaned columns\n",
    "combined_df_all_different['common_annotation'] = combined_df_all_different['common_annotation'].apply(lambda x: sorted(ast.literal_eval(x)))\n",
    "combined_df_all_same['common_annotation'] = combined_df_all_same['common_annotation'].apply(lambda x: sorted(ast.literal_eval(x)))\n",
    "combined_df_two_same['common_annotation'] = combined_df_two_same['common_annotation'].apply(lambda x: sorted(ast.literal_eval(x)))\n",
    "\n",
    "# Sort the Counter dictionary based on its values (in descending order)\n",
    "print(f\"labels with most disagreement:\\n\", sorted(Counter(combined_df_all_different['clean_annotation'].apply(lambda x: str(x))).items(), key=lambda x: x[1], reverse=True)[:5], '\\n')\n",
    "print(f\"labels with least disagreement:\\n\", sorted(Counter(combined_df_all_same['clean_annotation'].apply(lambda x: str(x))).items(), key=lambda x: x[1], reverse=True)[:5], '\\n')"
   ]
  },
  {
   "cell_type": "code",
   "execution_count": 49,
   "id": "e3b11ae3-4bfb-4902-bd13-df27e01aa5e5",
   "metadata": {
    "tags": []
   },
   "outputs": [
    {
     "data": {
      "text/html": [
       "<div>\n",
       "<style scoped>\n",
       "    .dataframe tbody tr th:only-of-type {\n",
       "        vertical-align: middle;\n",
       "    }\n",
       "\n",
       "    .dataframe tbody tr th {\n",
       "        vertical-align: top;\n",
       "    }\n",
       "\n",
       "    .dataframe thead th {\n",
       "        text-align: right;\n",
       "    }\n",
       "</style>\n",
       "<table border=\"1\" class=\"dataframe\">\n",
       "  <thead>\n",
       "    <tr style=\"text-align: right;\">\n",
       "      <th></th>\n",
       "      <th>text</th>\n",
       "      <th>batch1-p1dJf8bNcR</th>\n",
       "      <th>batch1-q1kEz5xVnW</th>\n",
       "      <th>batch1-s1gHt0uLrM</th>\n",
       "      <th>common_annotation</th>\n",
       "      <th>batch2-health</th>\n",
       "      <th>batch2-v2gJkDpZ5M</th>\n",
       "      <th>batch2-y2nLcHfB8X</th>\n",
       "      <th>batch3-m3wQfDdV4G</th>\n",
       "      <th>batch3-u3cNtS9xR7</th>\n",
       "      <th>batch3-health</th>\n",
       "      <th>clean_annotation</th>\n",
       "    </tr>\n",
       "  </thead>\n",
       "  <tbody>\n",
       "    <tr>\n",
       "      <th>3</th>\n",
       "      <td>1 centraal contactpersoon, zoals voorheen die ...</td>\n",
       "      <td>['contact_POS']</td>\n",
       "      <td>['niks']</td>\n",
       "      <td>['contact_NEG']</td>\n",
       "      <td>[contact_NEG]</td>\n",
       "      <td>NaN</td>\n",
       "      <td>NaN</td>\n",
       "      <td>NaN</td>\n",
       "      <td>NaN</td>\n",
       "      <td>NaN</td>\n",
       "      <td>NaN</td>\n",
       "      <td>[contact]</td>\n",
       "    </tr>\n",
       "    <tr>\n",
       "      <th>13</th>\n",
       "      <td>Allemaal praatjes en lege woorden.  Na 20 jaar...</td>\n",
       "      <td>['afspraken_NEG', 'communicatie_NEG']</td>\n",
       "      <td>['afspraken_NEG']</td>\n",
       "      <td>['niks']</td>\n",
       "      <td>[afspraken_NEG]</td>\n",
       "      <td>NaN</td>\n",
       "      <td>NaN</td>\n",
       "      <td>NaN</td>\n",
       "      <td>NaN</td>\n",
       "      <td>NaN</td>\n",
       "      <td>NaN</td>\n",
       "      <td>[afspraken]</td>\n",
       "    </tr>\n",
       "    <tr>\n",
       "      <th>18</th>\n",
       "      <td>Als er bv gezegd wordt dat er Vrijdag of Maand...</td>\n",
       "      <td>['afspraken_NEG', 'persoonlijke-aandacht_POS']</td>\n",
       "      <td>['communicatie_NEG']</td>\n",
       "      <td>['afspraken_NEG']</td>\n",
       "      <td>[afspraken_NEG, persoonlijke-aandacht_POS]</td>\n",
       "      <td>NaN</td>\n",
       "      <td>NaN</td>\n",
       "      <td>NaN</td>\n",
       "      <td>NaN</td>\n",
       "      <td>NaN</td>\n",
       "      <td>NaN</td>\n",
       "      <td>[afspraken, persoonlijke-aandacht]</td>\n",
       "    </tr>\n",
       "    <tr>\n",
       "      <th>20</th>\n",
       "      <td>Als er een roosterwijziging is dan mag WERKMAA...</td>\n",
       "      <td>['communicatie_NEG', 'roosters-planning_NEG']</td>\n",
       "      <td>['communicatie_NEG']</td>\n",
       "      <td>['roosters-planning_NEG']</td>\n",
       "      <td>[communicatie_NEG]</td>\n",
       "      <td>NaN</td>\n",
       "      <td>NaN</td>\n",
       "      <td>NaN</td>\n",
       "      <td>NaN</td>\n",
       "      <td>NaN</td>\n",
       "      <td>NaN</td>\n",
       "      <td>[communicatie]</td>\n",
       "    </tr>\n",
       "    <tr>\n",
       "      <th>32</th>\n",
       "      <td>Beter communiceren over de uren niet zomaar zo...</td>\n",
       "      <td>['communicatie_NEG', 'roosters-planning_NEG']</td>\n",
       "      <td>['communicatie_NEG']</td>\n",
       "      <td>['roosters-planning_NEG']</td>\n",
       "      <td>[communicatie_NEG, roosters-planning_NEG]</td>\n",
       "      <td>NaN</td>\n",
       "      <td>NaN</td>\n",
       "      <td>NaN</td>\n",
       "      <td>NaN</td>\n",
       "      <td>NaN</td>\n",
       "      <td>NaN</td>\n",
       "      <td>[communicatie, roosters-planning]</td>\n",
       "    </tr>\n",
       "  </tbody>\n",
       "</table>\n",
       "</div>"
      ],
      "text/plain": [
       "                                                 text   \n",
       "3   1 centraal contactpersoon, zoals voorheen die ...  \\\n",
       "13  Allemaal praatjes en lege woorden.  Na 20 jaar...   \n",
       "18  Als er bv gezegd wordt dat er Vrijdag of Maand...   \n",
       "20  Als er een roosterwijziging is dan mag WERKMAA...   \n",
       "32  Beter communiceren over de uren niet zomaar zo...   \n",
       "\n",
       "                                 batch1-p1dJf8bNcR     batch1-q1kEz5xVnW   \n",
       "3                                  ['contact_POS']              ['niks']  \\\n",
       "13           ['afspraken_NEG', 'communicatie_NEG']     ['afspraken_NEG']   \n",
       "18  ['afspraken_NEG', 'persoonlijke-aandacht_POS']  ['communicatie_NEG']   \n",
       "20   ['communicatie_NEG', 'roosters-planning_NEG']  ['communicatie_NEG']   \n",
       "32   ['communicatie_NEG', 'roosters-planning_NEG']  ['communicatie_NEG']   \n",
       "\n",
       "            batch1-s1gHt0uLrM                           common_annotation   \n",
       "3             ['contact_NEG']                               [contact_NEG]  \\\n",
       "13                   ['niks']                             [afspraken_NEG]   \n",
       "18          ['afspraken_NEG']  [afspraken_NEG, persoonlijke-aandacht_POS]   \n",
       "20  ['roosters-planning_NEG']                          [communicatie_NEG]   \n",
       "32  ['roosters-planning_NEG']   [communicatie_NEG, roosters-planning_NEG]   \n",
       "\n",
       "   batch2-health batch2-v2gJkDpZ5M batch2-y2nLcHfB8X batch3-m3wQfDdV4G   \n",
       "3            NaN               NaN               NaN               NaN  \\\n",
       "13           NaN               NaN               NaN               NaN   \n",
       "18           NaN               NaN               NaN               NaN   \n",
       "20           NaN               NaN               NaN               NaN   \n",
       "32           NaN               NaN               NaN               NaN   \n",
       "\n",
       "   batch3-u3cNtS9xR7 batch3-health                    clean_annotation  \n",
       "3                NaN           NaN                           [contact]  \n",
       "13               NaN           NaN                         [afspraken]  \n",
       "18               NaN           NaN  [afspraken, persoonlijke-aandacht]  \n",
       "20               NaN           NaN                      [communicatie]  \n",
       "32               NaN           NaN   [communicatie, roosters-planning]  "
      ]
     },
     "execution_count": 49,
     "metadata": {},
     "output_type": "execute_result"
    }
   ],
   "source": [
    "combined_df_all_different.head()"
   ]
  },
  {
   "cell_type": "code",
   "execution_count": null,
   "id": "ad1ed577-ce22-4afc-825c-de574c3fcd06",
   "metadata": {},
   "outputs": [],
   "source": []
  },
  {
   "cell_type": "code",
   "execution_count": 50,
   "id": "aa0ac2c6-6d88-4b4d-9d65-e1a04c2a06aa",
   "metadata": {
    "tags": []
   },
   "outputs": [],
   "source": [
    "## Make final distribution of labels"
   ]
  },
  {
   "cell_type": "code",
   "execution_count": 51,
   "id": "f15ab72a-7a0e-409f-8c6b-556781334112",
   "metadata": {
    "tags": []
   },
   "outputs": [
    {
     "name": "stdout",
     "output_type": "stream",
     "text": [
      "Top 5 occurring labels in final dataset\n",
      " [(\"['niks']\", 376), (\"['persoonlijke-aandacht']\", 367), (\"['communicatie']\", 134), (\"['salaris']\", 112), (\"['contact']\", 98)] \n",
      "\n",
      "Top 5 occurring labels in final dataset\n",
      " [(\"['niks']\", 376), (\"['persoonlijke-aandacht_NEG']\", 262), (\"['communicatie_NEG']\", 125), (\"['salaris_NEG']\", 108), (\"['persoonlijke-aandacht_POS']\", 105)] \n",
      "\n"
     ]
    }
   ],
   "source": [
    "final_combined_df = pd.concat([combined_df_all_same, combined_df_two_same, combined_df_all_different])\n",
    "\n",
    "final_counts_without_sentiment = sorted(Counter(final_combined_df['clean_annotation'].apply(lambda x: str(x))).items(), key=lambda x: x[1], reverse=True)\n",
    "print(f\"Top 5 occurring labels in final dataset\\n\", final_counts_without_sentiment[:5], '\\n')\n",
    "pd.DataFrame(final_counts_without_sentiment).to_csv(\"data/dataset_distribution_withoutsentiment.csv\")\n",
    "\n",
    "final_counts = sorted(Counter(final_combined_df['common_annotation'].apply(lambda x: str(x))).items(), key=lambda x: x[1], reverse=True)\n",
    "print(f\"Top 5 occurring labels in final dataset\\n\", final_counts[:5], '\\n')\n",
    "pd.DataFrame(final_counts).to_csv(\"data/dataset_distribution.csv\")"
   ]
  },
  {
   "cell_type": "code",
   "execution_count": 52,
   "id": "ec9df061-e75a-4f07-ba0d-ac55276907e0",
   "metadata": {
    "tags": []
   },
   "outputs": [
    {
     "name": "stdout",
     "output_type": "stream",
     "text": [
      "                   Label  POS_Count  NEG_Count\n",
      "0  persoonlijke-aandacht        141        370\n",
      "1                contact         57        155\n",
      "2           communicatie         33        212\n",
      "3                salaris         23        153\n",
      "4              afspraken          8         67\n",
      "5      roosters-planning          5        134\n"
     ]
    }
   ],
   "source": [
    "# Initialize two empty Counters: one for _POS and one for _NEG\n",
    "pos_counter = Counter()\n",
    "neg_counter = Counter()\n",
    "\n",
    "# Count _POS and _NEG annotations\n",
    "for annotations in final_combined_df['common_annotation']:\n",
    "    for annotation in annotations:\n",
    "        if '_POS' in annotation:\n",
    "            # Remove the _POS suffix and update the counter\n",
    "            label = annotation[:-4]\n",
    "            pos_counter[label] += 1\n",
    "        elif '_NEG' in annotation:\n",
    "            # Remove the _NEG suffix and update the counter\n",
    "            label = annotation[:-4]\n",
    "            neg_counter[label] += 1\n",
    "\n",
    "# Convert the Counters to DataFrames\n",
    "pos_df = pd.DataFrame(pos_counter.items(), columns=['Label', 'POS_Count'])\n",
    "neg_df = pd.DataFrame(neg_counter.items(), columns=['Label', 'NEG_Count'])\n",
    "\n",
    "# Merge the DataFrames on the 'Label' column\n",
    "merged_df = pos_df.merge(neg_df, on='Label', how='outer')\n",
    "\n",
    "# Fill any missing values with 0\n",
    "merged_df[['POS_Count', 'NEG_Count']] = merged_df[['POS_Count', 'NEG_Count']].fillna(0)\n",
    "\n",
    "# Sort the DataFrame by POS_Count and/or NEG_Count as desired\n",
    "merged_df = merged_df.sort_values(by=['POS_Count', 'NEG_Count'], ascending=False).reset_index(drop=True)\n",
    "\n",
    "# Print the DataFrame\n",
    "print(merged_df)\n",
    "\n",
    "merged_df.to_csv(\"data/sentiment_counts.csv\")"
   ]
  },
  {
   "cell_type": "code",
   "execution_count": 53,
   "id": "86758054-d634-41ec-94db-e27d1edf3f06",
   "metadata": {
    "tags": []
   },
   "outputs": [],
   "source": [
    "final_combined_df.reset_index(drop=True).to_csv(\"data/final_dataset_ABSA.csv\", sep=';')"
   ]
  },
  {
   "cell_type": "code",
   "execution_count": 54,
   "id": "29cdce73-21e8-460a-aa59-819123f4cc71",
   "metadata": {
    "tags": []
   },
   "outputs": [],
   "source": [
    "df = pd.DataFrame([\"['contact', 'salaris']\", \"['contact']\", \"['salaris']\"]).T \n",
    "df2 = pd.DataFrame([\"['contact', 'salaris']\", \"['contact', 'salaris']\", \"['salaris']\"]).T \n",
    "df3 = pd.DataFrame([\"['contact', 'salaris']\", \"['persoonlijke aandacht']\", \"['afspraken']\"]).T "
   ]
  },
  {
   "cell_type": "code",
   "execution_count": 55,
   "id": "a01bf70d-8e85-42f4-8ee6-f60c9731ba15",
   "metadata": {
    "tags": []
   },
   "outputs": [
    {
     "data": {
      "text/html": [
       "<div>\n",
       "<style scoped>\n",
       "    .dataframe tbody tr th:only-of-type {\n",
       "        vertical-align: middle;\n",
       "    }\n",
       "\n",
       "    .dataframe tbody tr th {\n",
       "        vertical-align: top;\n",
       "    }\n",
       "\n",
       "    .dataframe thead th {\n",
       "        text-align: right;\n",
       "    }\n",
       "</style>\n",
       "<table border=\"1\" class=\"dataframe\">\n",
       "  <thead>\n",
       "    <tr style=\"text-align: right;\">\n",
       "      <th></th>\n",
       "      <th>0</th>\n",
       "      <th>1</th>\n",
       "      <th>2</th>\n",
       "    </tr>\n",
       "  </thead>\n",
       "  <tbody>\n",
       "    <tr>\n",
       "      <th>0</th>\n",
       "      <td>['contact', 'salaris']</td>\n",
       "      <td>['contact']</td>\n",
       "      <td>['salaris']</td>\n",
       "    </tr>\n",
       "  </tbody>\n",
       "</table>\n",
       "</div>"
      ],
      "text/plain": [
       "                        0            1            2\n",
       "0  ['contact', 'salaris']  ['contact']  ['salaris']"
      ]
     },
     "execution_count": 55,
     "metadata": {},
     "output_type": "execute_result"
    }
   ],
   "source": [
    "df"
   ]
  },
  {
   "cell_type": "code",
   "execution_count": 56,
   "id": "c37dcb1d-60e5-4775-ab4e-2ae228eeb158",
   "metadata": {
    "tags": []
   },
   "outputs": [
    {
     "data": {
      "text/html": [
       "<div>\n",
       "<style scoped>\n",
       "    .dataframe tbody tr th:only-of-type {\n",
       "        vertical-align: middle;\n",
       "    }\n",
       "\n",
       "    .dataframe tbody tr th {\n",
       "        vertical-align: top;\n",
       "    }\n",
       "\n",
       "    .dataframe thead th {\n",
       "        text-align: right;\n",
       "    }\n",
       "</style>\n",
       "<table border=\"1\" class=\"dataframe\">\n",
       "  <thead>\n",
       "    <tr style=\"text-align: right;\">\n",
       "      <th></th>\n",
       "      <th>0</th>\n",
       "      <th>1</th>\n",
       "      <th>2</th>\n",
       "    </tr>\n",
       "  </thead>\n",
       "  <tbody>\n",
       "    <tr>\n",
       "      <th>0</th>\n",
       "      <td>['contact', 'salaris']</td>\n",
       "      <td>['contact', 'salaris']</td>\n",
       "      <td>['salaris']</td>\n",
       "    </tr>\n",
       "  </tbody>\n",
       "</table>\n",
       "</div>"
      ],
      "text/plain": [
       "                        0                       1            2\n",
       "0  ['contact', 'salaris']  ['contact', 'salaris']  ['salaris']"
      ]
     },
     "execution_count": 56,
     "metadata": {},
     "output_type": "execute_result"
    }
   ],
   "source": [
    "df2"
   ]
  },
  {
   "cell_type": "code",
   "execution_count": 57,
   "id": "e9afb212-370d-47ae-a4cd-66c4622594eb",
   "metadata": {
    "tags": []
   },
   "outputs": [
    {
     "data": {
      "text/html": [
       "<div>\n",
       "<style scoped>\n",
       "    .dataframe tbody tr th:only-of-type {\n",
       "        vertical-align: middle;\n",
       "    }\n",
       "\n",
       "    .dataframe tbody tr th {\n",
       "        vertical-align: top;\n",
       "    }\n",
       "\n",
       "    .dataframe thead th {\n",
       "        text-align: right;\n",
       "    }\n",
       "</style>\n",
       "<table border=\"1\" class=\"dataframe\">\n",
       "  <thead>\n",
       "    <tr style=\"text-align: right;\">\n",
       "      <th></th>\n",
       "      <th>0</th>\n",
       "      <th>1</th>\n",
       "      <th>2</th>\n",
       "    </tr>\n",
       "  </thead>\n",
       "  <tbody>\n",
       "    <tr>\n",
       "      <th>0</th>\n",
       "      <td>['contact', 'salaris']</td>\n",
       "      <td>['persoonlijke aandacht']</td>\n",
       "      <td>['afspraken']</td>\n",
       "    </tr>\n",
       "  </tbody>\n",
       "</table>\n",
       "</div>"
      ],
      "text/plain": [
       "                        0                          1              2\n",
       "0  ['contact', 'salaris']  ['persoonlijke aandacht']  ['afspraken']"
      ]
     },
     "execution_count": 57,
     "metadata": {},
     "output_type": "execute_result"
    }
   ],
   "source": [
    "df3"
   ]
  },
  {
   "cell_type": "code",
   "execution_count": null,
   "id": "d493a2ea-52ce-44b0-a0d2-397fadf74def",
   "metadata": {},
   "outputs": [],
   "source": []
  },
  {
   "cell_type": "code",
   "execution_count": 58,
   "id": "4fc6011f-4b1b-4a66-8016-909a50864be2",
   "metadata": {
    "tags": []
   },
   "outputs": [
    {
     "data": {
      "text/plain": [
       "==================================================\n",
       "            Fleiss` Kappa for m Raters            \n",
       "==================================================\n",
       "Subjects = 1\n",
       "  Raters = 3\n",
       "   Kappa = -0.500\n",
       "\n",
       "       z = -1.225\n",
       " p-value = 0.221\n",
       "\n",
       "                        Kappa      z  p.value\n",
       "['contact', 'salaris']   -0.5 -0.866    0.386\n",
       "['contact']              -0.5 -0.866    0.386\n",
       "['salaris']              -0.5 -0.866    0.386\n",
       "=================================================="
      ]
     },
     "execution_count": 58,
     "metadata": {},
     "output_type": "execute_result"
    }
   ],
   "source": [
    "kappam_fleiss(df,  detail=True)"
   ]
  },
  {
   "cell_type": "code",
   "execution_count": 59,
   "id": "8694dd72-1779-4c20-9e0d-e9a0050b21ab",
   "metadata": {
    "tags": []
   },
   "outputs": [
    {
     "data": {
      "text/plain": [
       "==================================================\n",
       "            Fleiss` Kappa for m Raters            \n",
       "==================================================\n",
       "Subjects = 1\n",
       "  Raters = 3\n",
       "   Kappa = -0.500\n",
       "\n",
       "       z = -0.866\n",
       " p-value = 0.386\n",
       "\n",
       "                        Kappa      z  p.value\n",
       "['contact', 'salaris']   -0.5 -0.866    0.386\n",
       "['salaris']              -0.5 -0.866    0.386\n",
       "=================================================="
      ]
     },
     "execution_count": 59,
     "metadata": {},
     "output_type": "execute_result"
    }
   ],
   "source": [
    "kappam_fleiss(df2,  detail=True)"
   ]
  },
  {
   "cell_type": "code",
   "execution_count": 60,
   "id": "a2fa97ea-91a7-4bd5-85f1-39dcd26ec8f7",
   "metadata": {
    "tags": []
   },
   "outputs": [
    {
     "data": {
      "text/plain": [
       "==================================================\n",
       "            Fleiss` Kappa for m Raters            \n",
       "==================================================\n",
       "Subjects = 1\n",
       "  Raters = 3\n",
       "   Kappa = -0.500\n",
       "\n",
       "       z = -1.225\n",
       " p-value = 0.221\n",
       "\n",
       "                           Kappa      z  p.value\n",
       "['afspraken']               -0.5 -0.866    0.386\n",
       "['contact', 'salaris']      -0.5 -0.866    0.386\n",
       "['persoonlijke aandacht']   -0.5 -0.866    0.386\n",
       "=================================================="
      ]
     },
     "execution_count": 60,
     "metadata": {},
     "output_type": "execute_result"
    }
   ],
   "source": [
    "kappam_fleiss(df3,  detail=True)"
   ]
  },
  {
   "cell_type": "code",
   "execution_count": null,
   "id": "d9f20d5c-997d-4668-a7f9-5d8370626a69",
   "metadata": {},
   "outputs": [],
   "source": []
  }
 ],
 "metadata": {
  "kernelspec": {
   "display_name": "conda_python3",
   "language": "python",
   "name": "conda_python3"
  },
  "language_info": {
   "codemirror_mode": {
    "name": "ipython",
    "version": 3
   },
   "file_extension": ".py",
   "mimetype": "text/x-python",
   "name": "python",
   "nbconvert_exporter": "python",
   "pygments_lexer": "ipython3",
   "version": "3.10.10"
  }
 },
 "nbformat": 4,
 "nbformat_minor": 5
}
